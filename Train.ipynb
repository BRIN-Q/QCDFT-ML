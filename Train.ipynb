{
 "cells": [
  {
   "cell_type": "code",
   "execution_count": 12,
   "metadata": {},
   "outputs": [],
   "source": [
    "import numpy as np\n",
    "\n",
    "from QC_DFT.NeuralNetwork import QCDFTModel"
   ]
  },
  {
   "cell_type": "code",
   "execution_count": 13,
   "metadata": {},
   "outputs": [],
   "source": [
    "nn_models = QCDFTModel.create()"
   ]
  },
  {
   "cell_type": "code",
   "execution_count": null,
   "metadata": {},
   "outputs": [],
   "source": [
    "print(nn_models.control_nn)\n",
    "print(nn_models.target_nn)"
   ]
  },
  {
   "cell_type": "code",
   "execution_count": 15,
   "metadata": {},
   "outputs": [],
   "source": [
    "data = QCDFTModel.load_data(\"Results/density_matrices.npy\")"
   ]
  },
  {
   "cell_type": "code",
   "execution_count": null,
   "metadata": {},
   "outputs": [],
   "source": [
    "data_count = 300\n",
    "epoch_count = 500\n",
    "learning_rate = 0.00001\n",
    "history = nn_models.train(data, data_count, epoch_count, learning_rate)"
   ]
  },
  {
   "cell_type": "code",
   "execution_count": null,
   "metadata": {},
   "outputs": [],
   "source": [
    "nn_models.save(\"Models/default\")"
   ]
  },
  {
   "cell_type": "code",
   "execution_count": null,
   "metadata": {},
   "outputs": [],
   "source": [
    "folder = \"Results\"\n",
    "suffix = \"\"\n",
    "\n",
    "\n",
    "target_losses = history[\"target_losses\"]\n",
    "target_losses_val = history[\"target_losses_val\"]\n",
    "control_losses = history[\"control_losses\"]\n",
    "control_losses_val = history[\"control_losses_val\"]\n",
    "target_fidelity = history[\"target_fidelity\"]\n",
    "target_fidelity_val = history[\"target_fidelity_val\"]\n",
    "control_fidelity = history[\"control_fidelity\"]\n",
    "control_fidelity_val = history[\"control_fidelity_val\"]\n",
    "\n",
    "\n",
    "np.save(f\"{folder}/target_losses{suffix}\", target_losses)\n",
    "np.save(f\"{folder}/target_losses_val{suffix}\", target_losses_val)\n",
    "np.save(f\"{folder}/control_losses{suffix}\", control_losses)\n",
    "np.save(f\"{folder}/control_losses_val{suffix}\", control_losses_val)\n",
    "np.save(f\"{folder}/target_fidelity{suffix}\", target_fidelity)\n",
    "np.save(f\"{folder}/target_fidelity_val{suffix}\", target_fidelity_val)\n",
    "np.save(f\"{folder}/control_fidelity{suffix}\", control_fidelity)\n",
    "np.save(f\"{folder}/control_fidelity_val{suffix}\", control_fidelity_val)\n"
   ]
  }
 ],
 "metadata": {
  "kernelspec": {
   "display_name": "qc-dft-venv",
   "language": "python",
   "name": "python3"
  },
  "language_info": {
   "codemirror_mode": {
    "name": "ipython",
    "version": 3
   },
   "file_extension": ".py",
   "mimetype": "text/x-python",
   "name": "python",
   "nbconvert_exporter": "python",
   "pygments_lexer": "ipython3",
   "version": "3.11.2"
  }
 },
 "nbformat": 4,
 "nbformat_minor": 2
}
