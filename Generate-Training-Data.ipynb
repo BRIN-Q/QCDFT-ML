{
 "cells": [
  {
   "cell_type": "code",
   "execution_count": 3,
   "metadata": {},
   "outputs": [],
   "source": [
    "import numpy as np"
   ]
  },
  {
   "cell_type": "code",
   "execution_count": 4,
   "metadata": {},
   "outputs": [],
   "source": [
    "# k is the number of psi_k to construct a mixed state density matrix\n",
    "num_states_per_k = 1000\n",
    "max_k = 100\n",
    "\n",
    "density_matrices = []\n",
    "\n",
    "random_numbers = np.random.rand(9 * max_k * max_k * num_states_per_k)\n",
    "random_iterator = iter(random_numbers)\n",
    "\n",
    "#generating input density matrices\n",
    "for k in range(1, max_k + 1):\n",
    "    for _ in range(num_states_per_k):\n",
    "        prob_vector = [next(random_iterator) for _ in range(k)]\n",
    "        prob_vector = prob_vector / np.sum(prob_vector)\n",
    "        density_matrix = np.zeros((4, 4), dtype=complex)\n",
    "        for j in range(k):\n",
    "            statevector = np.zeros(4, dtype=complex)\n",
    "            for i in range(4):\n",
    "                statevector[i] = next(random_iterator) + next(random_iterator) * 1j \n",
    "            statevector = statevector / np.linalg.norm(statevector)\n",
    "            statevector = np.transpose(np.array([statevector]))\n",
    "            \n",
    "            density_matrix += prob_vector[j] * (statevector @ np.transpose(np.conjugate(statevector)))\n",
    "        \n",
    "        density_matrices += [density_matrix]\n",
    "\n",
    "density_matrices = np.array(density_matrices)\n",
    "\n",
    "folder = \"Results\"\n",
    "suffix = \"\"\n",
    "\n",
    "np.save(f\"{folder}/density_matrices{suffix}\", density_matrices)"
   ]
  }
 ],
 "metadata": {
  "kernelspec": {
   "display_name": "qc-dft-venv",
   "language": "python",
   "name": "python3"
  },
  "language_info": {
   "codemirror_mode": {
    "name": "ipython",
    "version": 3
   },
   "file_extension": ".py",
   "mimetype": "text/x-python",
   "name": "python",
   "nbconvert_exporter": "python",
   "pygments_lexer": "ipython3",
   "version": "3.11.2"
  }
 },
 "nbformat": 4,
 "nbformat_minor": 2
}
